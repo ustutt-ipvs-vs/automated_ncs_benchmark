{
 "cells": [
  {
   "cell_type": "code",
   "execution_count": 1,
   "metadata": {},
   "outputs": [],
   "source": [
    "include(\"replication.jl\")"
   ]
  },
  {
   "cell_type": "code",
   "execution_count": 2,
   "metadata": {},
   "outputs": [
    {
     "data": {
      "text/plain": [
       "([0.367274 0.67757], [1.18364 0.338785; 0.338785 2.76717])"
      ]
     },
     "execution_count": 2,
     "metadata": {},
     "output_type": "execute_result"
    }
   ],
   "source": [
    "# System matrices\n",
    "A = [0.0 1.0; 0.5 0.8]\n",
    "B = [0.0 1.0]'\n",
    "const (n,m) = size(B)\n",
    "C = Matrix(1.0*I, n, n) # n×n identity\n",
    "Q = Matrix(1.0*I, n, n) # n×n identity\n",
    "R = Matrix(1.0*I, m, m) # m×m identity\n",
    "W = Matrix(1.0*I, n, n)\n",
    "V = Matrix(1e-3*I, n, n)\n",
    "K, Plqr = dlqrp(A, B, Q, R)"
   ]
  },
  {
   "cell_type": "code",
   "execution_count": 25,
   "metadata": {},
   "outputs": [
    {
     "data": {
      "text/plain": [
       "2×2 Array{Float64,2}:\n",
       " 0.000999399  2.54587e-7 \n",
       " 2.54587e-7   0.000999364"
      ]
     },
     "execution_count": 25,
     "metadata": {},
     "output_type": "execute_result"
    }
   ],
   "source": [
    "# Initial states\n",
    "x = [1.0, 1.0]/sqrt(2) # initial plant state\n",
    "\n",
    "x̂ = [0.0, 0.0] # initial state estimate\n",
    "# P = Diagonal([1.0, 1.0]) # initial state estimate error covariance\n",
    "# P = Diagonal([0.0, 0.0]) # initial state estimate error covariance\n",
    "P = dare(A', C', W, V) # steady-state kalman error covariance\n",
    "P = first(update_covariance(P,A,C,W,V))"
   ]
  },
  {
   "cell_type": "code",
   "execution_count": 23,
   "metadata": {},
   "outputs": [
    {
     "data": {
      "text/plain": [
       "2.314188849995947"
      ]
     },
     "execution_count": 23,
     "metadata": {},
     "output_type": "execute_result"
    }
   ],
   "source": [
    "J = x'*Plqr*x"
   ]
  },
  {
   "cell_type": "code",
   "execution_count": 24,
   "metadata": {},
   "outputs": [
    {
     "data": {
      "text/plain": [
       "2.2412110033108315"
      ]
     },
     "execution_count": 24,
     "metadata": {},
     "output_type": "execute_result"
    }
   ],
   "source": [
    "ΔJ = expected_cost_penalty(P, K, Plqr, B, R)"
   ]
  },
  {
   "cell_type": "code",
   "execution_count": 6,
   "metadata": {},
   "outputs": [
    {
     "data": {
      "text/plain": [
       "2×2 Array{Float64,2}:\n",
       " 1.001    0.0\n",
       " 0.0    Inf  "
      ]
     },
     "execution_count": 6,
     "metadata": {},
     "output_type": "execute_result"
    }
   ],
   "source": [
    "drop_error([true, false], V)"
   ]
  },
  {
   "cell_type": "code",
   "execution_count": 7,
   "metadata": {},
   "outputs": [
    {
     "data": {
      "text/plain": [
       "1.120279269142726"
      ]
     },
     "execution_count": 7,
     "metadata": {},
     "output_type": "execute_result"
    }
   ],
   "source": [
    "expected_cost_penalty_next(P, A, B, C, R, W, V, K, Plqr, [1,1])"
   ]
  },
  {
   "cell_type": "code",
   "execution_count": 8,
   "metadata": {},
   "outputs": [
    {
     "data": {
      "text/plain": [
       "2.1355747500109863"
      ]
     },
     "execution_count": 8,
     "metadata": {},
     "output_type": "execute_result"
    }
   ],
   "source": [
    "expected_cost_penalty_hist(P, A, B, C, R, W, V, K, Plqr, ([0,0],[0,0],[0,0],[0,0],[0,0],[0,0],[1,1]))"
   ]
  },
  {
   "cell_type": "code",
   "execution_count": 9,
   "metadata": {},
   "outputs": [
    {
     "data": {
      "text/plain": [
       "2.1355747500109863"
      ]
     },
     "execution_count": 9,
     "metadata": {},
     "output_type": "execute_result"
    }
   ],
   "source": [
    "expected_cost_penalty_hist(P, A, B, C, R, W, V, K, Plqr, [0 0 0 0 0 0 1; 0 0 0 0 0 0 1])"
   ]
  },
  {
   "cell_type": "code",
   "execution_count": 10,
   "metadata": {},
   "outputs": [
    {
     "data": {
      "text/plain": [
       "1.491805606563286"
      ]
     },
     "execution_count": 10,
     "metadata": {},
     "output_type": "execute_result"
    }
   ],
   "source": [
    "expected_cost_penalty_hist(P, A, B, C, R, W, V, K, Plqr, [1 1 1 1 1 1 1; 1 1 1 1 1 1 1])"
   ]
  },
  {
   "cell_type": "code",
   "execution_count": 11,
   "metadata": {},
   "outputs": [
    {
     "name": "stdout",
     "output_type": "stream",
     "text": [
      "7.226236227388245%\n"
     ]
    }
   ],
   "source": [
    "J0 = expected_cost_penalty_hist(P, A, B, C, R, W, V, K, Plqr, [0 1; 0 1])\n",
    "J1 = expected_cost_penalty_hist(P, A, B, C, R, W, V, K, Plqr, [1 1; 1 1])\n",
    "println(100*(J0-J1)/J,\"%\")"
   ]
  },
  {
   "cell_type": "code",
   "execution_count": null,
   "metadata": {},
   "outputs": [],
   "source": []
  }
 ],
 "metadata": {
  "@webio": {
   "lastCommId": null,
   "lastKernelId": null
  },
  "kernelspec": {
   "display_name": "Julia 1.1.0 (bin)",
   "language": "julia",
   "name": "julia-1.1-bin"
  },
  "language_info": {
   "file_extension": ".jl",
   "mimetype": "application/julia",
   "name": "julia",
   "version": "1.1.0"
  }
 },
 "nbformat": 4,
 "nbformat_minor": 2
}
